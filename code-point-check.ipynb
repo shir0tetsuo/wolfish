{
 "cells": [
  {
   "cell_type": "code",
   "execution_count": 16,
   "id": "c7e93a5b",
   "metadata": {},
   "outputs": [
    {
     "name": "stdout",
     "output_type": "stream",
     "text": [
      "Character: [  U+0020  ], Codepoint: [     ], Decimal: [  32  ], Character: [     ]\n",
      "Character: [  U+0065  ], Codepoint: [  e  ], Decimal: [  101  ], Character: [  e  ]\n",
      "Character: [  U+0324  ], Codepoint: [  ̤  ], Decimal: [  804  ], Character: [  ̤  ]\n",
      "Character: [  U+0020  ], Codepoint: [     ], Decimal: [  32  ], Character: [     ]\n"
     ]
    }
   ],
   "source": [
    "seq = input('Enter Sequence:')\n",
    "for c in seq:\n",
    "    codepoint:int = ord(c)\n",
    "    print(f\"Character: [  U+{codepoint:04X}  ], Codepoint: [  {chr(codepoint)}  ], Decimal: [  {codepoint}  ], Character: [  {c}  ]\")"
   ]
  }
 ],
 "metadata": {
  "kernelspec": {
   "display_name": "venv",
   "language": "python",
   "name": "python3"
  },
  "language_info": {
   "codemirror_mode": {
    "name": "ipython",
    "version": 3
   },
   "file_extension": ".py",
   "mimetype": "text/x-python",
   "name": "python",
   "nbconvert_exporter": "python",
   "pygments_lexer": "ipython3",
   "version": "3.12.3"
  }
 },
 "nbformat": 4,
 "nbformat_minor": 5
}
